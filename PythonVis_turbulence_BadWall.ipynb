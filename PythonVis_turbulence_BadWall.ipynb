{
 "cells": [
  {
   "cell_type": "code",
   "execution_count": 1,
   "metadata": {},
   "outputs": [],
   "source": [
    "from paraview.simple import *\n",
    "\n",
    "import matplotlib.pyplot as plt\n",
    "import pandas as pd\n",
    "import numpy as np\n",
    "import os\n",
    "from tqdm import tqdm"
   ]
  },
  {
   "cell_type": "code",
   "execution_count": 2,
   "metadata": {},
   "outputs": [],
   "source": [
    "import matplotlib as mpl\n",
    "\n",
    "mpl.rcParams['axes.grid'] = True\n",
    "mpl.rcParams['axes.labelsize'] = 15\n",
    "mpl.rcParams['figure.labelsize'] = 'large'\n",
    "mpl.rcParams['font.size'] = 15\n",
    "mpl.rcParams['legend.fontsize'] = 'medium'\n",
    "mpl.rcParams['legend.markerscale'] = 1.0\n",
    "mpl.rcParams['lines.linewidth'] = 2\n",
    "mpl.rcParams['lines.markersize'] = 4.5\n",
    "savefig_directory = '../Figures/'\n",
    "mpl.rcParams['xtick.labelsize'] = 15\n",
    "mpl.rcParams['ytick.labelsize'] = 15"
   ]
  },
  {
   "cell_type": "code",
   "execution_count": 6,
   "metadata": {},
   "outputs": [],
   "source": [
    "folder = ['src/BadWall/case.foam']\n",
    "\n",
    "# Properties of interest with geometry storage\n",
    "properties = ['Ma', 'T', 'p', 'U', 'rho']\n",
    "store_files = ['Ma.png', 'T.png', 'p.png', 'U.png', 'rho.png']"
   ]
  },
  {
   "cell_type": "code",
   "execution_count": 7,
   "metadata": {},
   "outputs": [
    {
     "data": {
      "text/plain": [
       "[None]"
      ]
     },
     "execution_count": 7,
     "metadata": {},
     "output_type": "execute_result"
    }
   ],
   "source": [
    "# Load your case.foam file\n",
    "foamCase = [OpenFOAMReader(FileName=folder_) for folder_ in folder]\n",
    "\n",
    "# Update pipeline to read the time steps, etc.\n",
    "[foamCase_.UpdatePipeline() for foamCase_ in foamCase]"
   ]
  },
  {
   "cell_type": "code",
   "execution_count": 8,
   "metadata": {},
   "outputs": [],
   "source": [
    "foamCase_ = foamCase[0]\n",
    "\n",
    "hasattr(foamCase_, \"TimestepValues\")\n",
    "final_time = foamCase_.TimestepValues[-1]"
   ]
  },
  {
   "cell_type": "code",
   "execution_count": 9,
   "metadata": {},
   "outputs": [],
   "source": [
    "def store_geometry(foamCase, property, store_file):\n",
    "    # Create a geometry view and show the data\n",
    "    renderView = GetActiveViewOrCreate('RenderView')\n",
    "    SetActiveSource(foamCase)\n",
    "    display = Show(foamCase, renderView)\n",
    "    \n",
    "    # If foamCase has multiple time steps, update to the final time step.\n",
    "    if hasattr(foamCase, \"TimestepValues\"):# and foamCase.TimestepValues:\n",
    "        # final_time = foamCase.TimestepValues[-1]\n",
    "        # UpdatePipeline(time=final_time)\n",
    "        final_time = foamCase_.TimestepValues[-1]\n",
    "        GetAnimationScene().AnimationTime = final_time\n",
    "        renderView.Update()\n",
    "\n",
    "    # Set properties to color by the specified property\n",
    "    ColorBy(display, ('POINTS', property))\n",
    "    display.RescaleTransferFunctionToDataRange(True)\n",
    "    display.SetScalarBarVisibility(renderView, True)\n",
    "\n",
    "    # Set the color map for the specific property\n",
    "    lut = GetColorTransferFunction(property)\n",
    "    lut.ApplyPreset('Cool to Warm', True)\n",
    "    display.SetRepresentationType('Surface')\n",
    "    display.SetScalarBarVisibility(renderView, True)\n",
    "\n",
    "    # Set the camera\n",
    "    # Reset the camera to what would be the default in ParaView\n",
    "    ResetCamera()\n",
    "    # Apply camera parallel projection (orthographic view)\n",
    "    renderView.CameraParallelProjection = 1\n",
    "    # Show the orientation axes for better spatial reference\n",
    "    renderView.OrientationAxesVisibility = 1\n",
    "    # Set the background color to white\n",
    "    renderView.Background = [1.0, 1.0, 1.0]\n",
    "    # Set the view size\n",
    "    LoadPalette('WhiteBackground')\n",
    "    renderView.ViewSize = [600, 600]\n",
    "\n",
    "    # Store a figure\n",
    "    if store_file is not None:\n",
    "        # Make sure directory exists before saving\n",
    "        store_dir = os.path.dirname(store_file)\n",
    "        if store_dir and not os.path.exists(store_dir):\n",
    "            os.makedirs(store_dir, exist_ok=True)\n",
    "        SaveScreenshot(store_file, renderView, magnification=2, quality=100)\n",
    "\n",
    "    # Clean up\n",
    "    Delete(display)\n",
    "    Delete(renderView)"
   ]
  },
  {
   "cell_type": "code",
   "execution_count": 11,
   "metadata": {},
   "outputs": [
    {
     "name": "stderr",
     "output_type": "stream",
     "text": [
      "1it [00:00,  1.13it/s]\n"
     ]
    }
   ],
   "source": [
    "# Cutplots\n",
    "os.makedirs('Figures', exist_ok=True)\n",
    "# Loop over different geometries\n",
    "for i, foamCase_ in tqdm(enumerate(foamCase)):\n",
    "    # Set the active source to the current foamCase\n",
    "    # Loop through each property and store the geometry\n",
    "    store_file = 'Figures/BadWall'\n",
    "    os.makedirs(store_file, exist_ok=True)\n",
    "    # print(f'store_file: {store_file}')\n",
    "    for property, store_file_ in zip(properties, store_files):\n",
    "            store_file_ = f'{store_file}/{store_file_}'\n",
    "            # print(f'store_file_: {store_file_}')\n",
    "            store_geometry(foamCase_, property, store_file_)"
   ]
  },
  {
   "cell_type": "code",
   "execution_count": null,
   "metadata": {},
   "outputs": [],
   "source": []
  }
 ],
 "metadata": {
  "kernelspec": {
   "display_name": "base",
   "language": "python",
   "name": "python3"
  },
  "language_info": {
   "codemirror_mode": {
    "name": "ipython",
    "version": 3
   },
   "file_extension": ".py",
   "mimetype": "text/x-python",
   "name": "python",
   "nbconvert_exporter": "python",
   "pygments_lexer": "ipython3",
   "version": "3.12.2"
  }
 },
 "nbformat": 4,
 "nbformat_minor": 2
}
